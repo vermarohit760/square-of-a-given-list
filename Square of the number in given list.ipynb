{
 "cells": [
  {
   "cell_type": "code",
   "execution_count": 1,
   "id": "aa0a5d59",
   "metadata": {},
   "outputs": [
    {
     "name": "stdout",
     "output_type": "stream",
     "text": [
      "1 2 3 4 5 6 7\n",
      "the sample list is :->  [1, 2, 3, 4, 5, 6, 7]\n",
      "the square of the number is :-> [1, 4, 9, 16, 25, 36, 49]\n"
     ]
    }
   ],
   "source": [
    "'''Write a Python program to square the elements of a list using map() function.\n",
    "\n",
    "\n",
    "\n",
    "Sample List: [4, 5, 2, 9]\n",
    "\n",
    "Square the elements of the list:\n",
    "\n",
    "[16, 25, 4, 81]\n",
    "\n",
    "'''\n",
    "def sqr(x):\n",
    "    return x**2\n",
    "sample_list=list(map(int,input().split(' ')))\n",
    "print('the sample list is :-> ', sample_list)\n",
    "square_of_number=list(map(sqr,sample_list)) \n",
    "print('the square of the number is :->', square_of_number)"
   ]
  },
  {
   "cell_type": "code",
   "execution_count": 3,
   "id": "ea161ed0",
   "metadata": {},
   "outputs": [
    {
     "name": "stdout",
     "output_type": "stream",
     "text": [
      "-2 -3 4 -1 -5 -6\n",
      "the sample list is :->  [-2, -3, 4, -1, -5, -6]\n",
      "the square of the number is :-> [4, 9, 16, 1, 25, 36]\n"
     ]
    }
   ],
   "source": [
    "sample_list=list(map(int,input().split(' ')))\n",
    "print('the sample list is :-> ', sample_list)\n",
    "square_of_number=list(map(lambda x: x**2,sample_list)) \n",
    "print('the square of the number is :->', square_of_number)"
   ]
  },
  {
   "cell_type": "code",
   "execution_count": null,
   "id": "09b3ec5e",
   "metadata": {},
   "outputs": [],
   "source": []
  }
 ],
 "metadata": {
  "kernelspec": {
   "display_name": "Python 3 (ipykernel)",
   "language": "python",
   "name": "python3"
  },
  "language_info": {
   "codemirror_mode": {
    "name": "ipython",
    "version": 3
   },
   "file_extension": ".py",
   "mimetype": "text/x-python",
   "name": "python",
   "nbconvert_exporter": "python",
   "pygments_lexer": "ipython3",
   "version": "3.9.6"
  }
 },
 "nbformat": 4,
 "nbformat_minor": 5
}
